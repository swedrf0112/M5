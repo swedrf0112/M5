{
  "nbformat": 4,
  "nbformat_minor": 0,
  "metadata": {
    "colab": {
      "name": "M5_seq2seq_attention.ipynb",
      "provenance": []
    },
    "kernelspec": {
      "name": "python3",
      "display_name": "Python 3"
    },
    "accelerator": "GPU"
  },
  "cells": [
    {
      "cell_type": "code",
      "metadata": {
        "id": "p182RV1A6MuH",
        "colab_type": "code",
        "colab": {}
      },
      "source": [
        "from google.colab import drive\n",
        "drive.mount(\"/m5\")"
      ],
      "execution_count": 0,
      "outputs": []
    },
    {
      "cell_type": "code",
      "metadata": {
        "id": "33RuQmw282kI",
        "colab_type": "code",
        "outputId": "a42b805d-f8e4-4199-c935-61c2b46d8276",
        "colab": {
          "base_uri": "https://localhost:8080/",
          "height": 79
        }
      },
      "source": [
        "import pandas as pd\n",
        "import numpy as np\n",
        "import tensorflow as tf\n",
        "import functools\n",
        "import time\n",
        "from tqdm import tqdm\n",
        "from sklearn.preprocessing import MinMaxScaler, LabelEncoder\n",
        "from sklearn.model_selection import train_test_split\n",
        "%tensorflow_version 2.x"
      ],
      "execution_count": 0,
      "outputs": [
        {
          "output_type": "display_data",
          "data": {
            "text/html": [
              "<p style=\"color: red;\">\n",
              "The default version of TensorFlow in Colab will switch to TensorFlow 2.x on the 27th of March, 2020.<br>\n",
              "We recommend you <a href=\"https://www.tensorflow.org/guide/migrate\" target=\"_blank\">upgrade</a> now\n",
              "or ensure your notebook will continue to use TensorFlow 1.x via the <code>%tensorflow_version 1.x</code> magic:\n",
              "<a href=\"https://colab.research.google.com/notebooks/tensorflow_version.ipynb\" target=\"_blank\">more info</a>.</p>\n"
            ],
            "text/plain": [
              "<IPython.core.display.HTML object>"
            ]
          },
          "metadata": {
            "tags": []
          }
        },
        {
          "output_type": "stream",
          "text": [
            "TensorFlow is already loaded. Please restart the runtime to change versions.\n"
          ],
          "name": "stdout"
        }
      ]
    },
    {
      "cell_type": "code",
      "metadata": {
        "id": "X2FS2xyw6uyQ",
        "colab_type": "code",
        "colab": {}
      },
      "source": [
        "tf.enable_eager_execution()"
      ],
      "execution_count": 0,
      "outputs": []
    },
    {
      "cell_type": "code",
      "metadata": {
        "id": "iAaZk04zslX3",
        "colab_type": "code",
        "colab": {}
      },
      "source": [
        "from tensorflow.keras.layers import Embedding"
      ],
      "execution_count": 0,
      "outputs": []
    },
    {
      "cell_type": "code",
      "metadata": {
        "id": "ZF-cN7e26Mnf",
        "colab_type": "code",
        "colab": {}
      },
      "source": [
        "INPUT_SERIES_SIZE = 60\n",
        "OUTPUT_SERIES_SIZE = 28"
      ],
      "execution_count": 0,
      "outputs": []
    },
    {
      "cell_type": "code",
      "metadata": {
        "id": "Qgv73g_RnDow",
        "colab_type": "code",
        "colab": {}
      },
      "source": [
        "BATCH_SIZE = 256\n",
        "BUFFER_SIZE = 10000\n",
        "UNITS = 1024"
      ],
      "execution_count": 0,
      "outputs": []
    },
    {
      "cell_type": "code",
      "metadata": {
        "id": "epF0mG8W89Gi",
        "colab_type": "code",
        "colab": {}
      },
      "source": [
        "sales_df = pd.read_csv(\"/m5/My Drive/m5-forecasting-accuracy/sales_train_validation.csv\")\n",
        "calendar_df = pd.read_csv(\"/m5/My Drive/m5-forecasting-accuracy/calendar.csv\")\n",
        "prices_df = pd.read_csv(\"/m5/My Drive/m5-forecasting-accuracy/sell_prices.csv\")"
      ],
      "execution_count": 0,
      "outputs": []
    },
    {
      "cell_type": "code",
      "metadata": {
        "id": "CDtI-hkdsRDD",
        "colab_type": "code",
        "outputId": "e56f633f-0a53-4cdf-818d-40ab818e83a3",
        "colab": {
          "base_uri": "https://localhost:8080/",
          "height": 418
        }
      },
      "source": [
        "pd.read_csv(\"/m5/My Drive/m5-forecasting-accuracy/sell_prices.csv\")"
      ],
      "execution_count": 0,
      "outputs": [
        {
          "output_type": "stream",
          "text": [
            "ERROR! Session/line number was not unique in database. History logging moved to new session 59\n"
          ],
          "name": "stdout"
        },
        {
          "output_type": "execute_result",
          "data": {
            "text/html": [
              "<div>\n",
              "<style scoped>\n",
              "    .dataframe tbody tr th:only-of-type {\n",
              "        vertical-align: middle;\n",
              "    }\n",
              "\n",
              "    .dataframe tbody tr th {\n",
              "        vertical-align: top;\n",
              "    }\n",
              "\n",
              "    .dataframe thead th {\n",
              "        text-align: right;\n",
              "    }\n",
              "</style>\n",
              "<table border=\"1\" class=\"dataframe\">\n",
              "  <thead>\n",
              "    <tr style=\"text-align: right;\">\n",
              "      <th></th>\n",
              "      <th>store_id</th>\n",
              "      <th>item_id</th>\n",
              "      <th>wm_yr_wk</th>\n",
              "      <th>sell_price</th>\n",
              "    </tr>\n",
              "  </thead>\n",
              "  <tbody>\n",
              "    <tr>\n",
              "      <th>0</th>\n",
              "      <td>CA_1</td>\n",
              "      <td>HOBBIES_1_001</td>\n",
              "      <td>11325</td>\n",
              "      <td>9.58</td>\n",
              "    </tr>\n",
              "    <tr>\n",
              "      <th>1</th>\n",
              "      <td>CA_1</td>\n",
              "      <td>HOBBIES_1_001</td>\n",
              "      <td>11326</td>\n",
              "      <td>9.58</td>\n",
              "    </tr>\n",
              "    <tr>\n",
              "      <th>2</th>\n",
              "      <td>CA_1</td>\n",
              "      <td>HOBBIES_1_001</td>\n",
              "      <td>11327</td>\n",
              "      <td>8.26</td>\n",
              "    </tr>\n",
              "    <tr>\n",
              "      <th>3</th>\n",
              "      <td>CA_1</td>\n",
              "      <td>HOBBIES_1_001</td>\n",
              "      <td>11328</td>\n",
              "      <td>8.26</td>\n",
              "    </tr>\n",
              "    <tr>\n",
              "      <th>4</th>\n",
              "      <td>CA_1</td>\n",
              "      <td>HOBBIES_1_001</td>\n",
              "      <td>11329</td>\n",
              "      <td>8.26</td>\n",
              "    </tr>\n",
              "    <tr>\n",
              "      <th>...</th>\n",
              "      <td>...</td>\n",
              "      <td>...</td>\n",
              "      <td>...</td>\n",
              "      <td>...</td>\n",
              "    </tr>\n",
              "    <tr>\n",
              "      <th>6841116</th>\n",
              "      <td>WI_3</td>\n",
              "      <td>FOODS_3_827</td>\n",
              "      <td>11617</td>\n",
              "      <td>1.00</td>\n",
              "    </tr>\n",
              "    <tr>\n",
              "      <th>6841117</th>\n",
              "      <td>WI_3</td>\n",
              "      <td>FOODS_3_827</td>\n",
              "      <td>11618</td>\n",
              "      <td>1.00</td>\n",
              "    </tr>\n",
              "    <tr>\n",
              "      <th>6841118</th>\n",
              "      <td>WI_3</td>\n",
              "      <td>FOODS_3_827</td>\n",
              "      <td>11619</td>\n",
              "      <td>1.00</td>\n",
              "    </tr>\n",
              "    <tr>\n",
              "      <th>6841119</th>\n",
              "      <td>WI_3</td>\n",
              "      <td>FOODS_3_827</td>\n",
              "      <td>11620</td>\n",
              "      <td>1.00</td>\n",
              "    </tr>\n",
              "    <tr>\n",
              "      <th>6841120</th>\n",
              "      <td>WI_3</td>\n",
              "      <td>FOODS_3_827</td>\n",
              "      <td>11621</td>\n",
              "      <td>1.00</td>\n",
              "    </tr>\n",
              "  </tbody>\n",
              "</table>\n",
              "<p>6841121 rows × 4 columns</p>\n",
              "</div>"
            ],
            "text/plain": [
              "        store_id        item_id  wm_yr_wk  sell_price\n",
              "0           CA_1  HOBBIES_1_001     11325        9.58\n",
              "1           CA_1  HOBBIES_1_001     11326        9.58\n",
              "2           CA_1  HOBBIES_1_001     11327        8.26\n",
              "3           CA_1  HOBBIES_1_001     11328        8.26\n",
              "4           CA_1  HOBBIES_1_001     11329        8.26\n",
              "...          ...            ...       ...         ...\n",
              "6841116     WI_3    FOODS_3_827     11617        1.00\n",
              "6841117     WI_3    FOODS_3_827     11618        1.00\n",
              "6841118     WI_3    FOODS_3_827     11619        1.00\n",
              "6841119     WI_3    FOODS_3_827     11620        1.00\n",
              "6841120     WI_3    FOODS_3_827     11621        1.00\n",
              "\n",
              "[6841121 rows x 4 columns]"
            ]
          },
          "metadata": {
            "tags": []
          },
          "execution_count": 10
        }
      ]
    },
    {
      "cell_type": "code",
      "metadata": {
        "id": "0mQrNR7Q7RVx",
        "colab_type": "code",
        "colab": {}
      },
      "source": [
        "pd.read_csv(\"/m5/My Drive/m5-forecasting-accuracy/\")"
      ],
      "execution_count": 0,
      "outputs": []
    },
    {
      "cell_type": "code",
      "metadata": {
        "id": "QsK-FQjy1ViH",
        "colab_type": "code",
        "colab": {}
      },
      "source": [
        "test_sales_df = sales_df[['id', 'item_id', 'dept_id', 'cat_id', 'store_id', 'state_id'] + [\"d_{0}\".format(i) for i in range(1826, 1914, 1)]]"
      ],
      "execution_count": 0,
      "outputs": []
    },
    {
      "cell_type": "code",
      "metadata": {
        "id": "qFxYtQ_71uHc",
        "colab_type": "code",
        "colab": {}
      },
      "source": [
        " # 2016-04-25 ~ 2016-05-22 是需要prediction的 time\n",
        "#calendar_df[(calendar_df['int_d'] > 1913) & (calendar_df['int_d'] <= 1913 + 28)]  "
      ],
      "execution_count": 0,
      "outputs": []
    },
    {
      "cell_type": "code",
      "metadata": {
        "id": "4RfkBy0utMzK",
        "colab_type": "code",
        "colab": {}
      },
      "source": [
        "#test_df = sales_df.iloc[[23, 1042, 7984]].copy()"
      ],
      "execution_count": 0,
      "outputs": []
    },
    {
      "cell_type": "code",
      "metadata": {
        "id": "LWqZZzyXl1_z",
        "colab_type": "code",
        "colab": {}
      },
      "source": [
        "class BuildSalesDF:\n",
        "  def __init__(self, df):\n",
        "    self.df = df\n",
        "    self.label_encoder_dict = {}\n",
        "    self.min_max_scaler = MinMaxScaler()\n",
        "    self.tot_data_list = []\n",
        "    self.data_x = []\n",
        "    self.data_y = []\n",
        "    self.series_length = self.df.shape[1] - 6\n",
        "\n",
        "  def buildLabelEncoder(self, target_column):\n",
        "    le = LabelEncoder()\n",
        "    le.fit(self.df[target_column])\n",
        "    self.label_encoder_dict[target_column] = le\n",
        "    self.df[target_column + '_index'] = le.transform(self.df[target_column])\n",
        "    self.df = self.df.drop(target_column, axis = 1)\n",
        "\n",
        "  def build(self):\n",
        "    for col in ['item_id', 'dept_id', 'cat_id', 'store_id', 'state_id']:\n",
        "      self.buildLabelEncoder(col)\n",
        "\n",
        "    self.df = self.df.melt(id_vars = ['id', 'item_id_index', 'dept_id_index', 'cat_id_index', 'store_id_index', 'state_id_index'])\n",
        "    self.min_max_scaler.fit(self.df['value'].values.reshape(-1, 1))\n",
        "    self.df['value'] = self.min_max_scaler.transform(self.df['value'].values.reshape(-1, 1))\n",
        "\n",
        "    self.df = self.df.rename(columns = {'variable': 'd'})\n",
        "    self.df['d'] = list(map(lambda x: int(x.replace('d_', '')), self.df['d']))\n",
        "\n",
        "    groupDF = self.df.groupby('id')\n",
        "    for x in groupDF.groups:\n",
        "      self.tot_data_list.append(groupDF.get_group(x).sort_values('d'))\n",
        "\n",
        "  def transformAllData(self):\n",
        "      last_t = self.series_length - INPUT_SERIES_SIZE - OUTPUT_SERIES_SIZE + 1\n",
        "\n",
        "      for idx in tqdm(range(len(self.tot_data_list))):\n",
        "        for t in range(last_t):\n",
        "          dd = self.tot_data_list[idx][['item_id_index', 'dept_id_index', 'cat_id_index', 'store_id_index', 'state_id_index', 'value']].to_numpy()\n",
        "          self.data_x.append(dd[t:(t + INPUT_SERIES_SIZE), :])\n",
        "          self.data_y.append(dd[(t + INPUT_SERIES_SIZE):(t + INPUT_SERIES_SIZE + OUTPUT_SERIES_SIZE), -1].reshape(OUTPUT_SERIES_SIZE, 1))\n",
        "\n",
        "  def run(self):\n",
        "    self.build()\n",
        "    print(\"Transform data into list...\")\n",
        "    self.transformAllData()\n",
        "    self.all_data_x = np.array(self.data_x, dtype = np.float32)\n",
        "    self.all_data_y = np.array(self.data_y, dtype = np.float32)"
      ],
      "execution_count": 0,
      "outputs": []
    },
    {
      "cell_type": "code",
      "metadata": {
        "id": "s-kM1PdFnz8D",
        "colab_type": "code",
        "colab": {}
      },
      "source": [
        "sales_df_obj = BuildSalesDF(test_sales_df)\n",
        "sales_df_obj.run()"
      ],
      "execution_count": 0,
      "outputs": []
    },
    {
      "cell_type": "code",
      "metadata": {
        "id": "8MFngTGfnboD",
        "colab_type": "code",
        "colab": {}
      },
      "source": [
        "train_x, val_x, train_y, val_y = train_test_split(sales_df_obj.all_data_x, sales_df_obj.all_data_y, test_size = 0.2)"
      ],
      "execution_count": 0,
      "outputs": []
    },
    {
      "cell_type": "code",
      "metadata": {
        "id": "mKsmAXQylLnE",
        "colab_type": "code",
        "colab": {}
      },
      "source": [
        "STEPS_PER_EPOCH = train_x.shape[0] // BATCH_SIZE"
      ],
      "execution_count": 0,
      "outputs": []
    },
    {
      "cell_type": "code",
      "metadata": {
        "id": "VPIxCeUzlLiR",
        "colab_type": "code",
        "colab": {}
      },
      "source": [
        "train_dataset = tf.data.Dataset.from_tensor_slices((train_x, train_y))\n",
        "train_dataset = train_dataset.cache().shuffle(BUFFER_SIZE).batch(BATCH_SIZE).repeat()\n",
        "val_dataset = tf.data.Dataset.from_tensor_slices((val_x, val_y))"
      ],
      "execution_count": 0,
      "outputs": []
    },
    {
      "cell_type": "code",
      "metadata": {
        "colab_type": "code",
        "id": "cJeJQ0XmD33-",
        "colab": {}
      },
      "source": [
        "# example_input_batch, example_target_batch = next(iter(train_dataset))"
      ],
      "execution_count": 0,
      "outputs": []
    },
    {
      "cell_type": "code",
      "metadata": {
        "id": "0JBAU8YVrLo7",
        "colab_type": "code",
        "colab": {}
      },
      "source": [
        "item_id_embedding_layer = Embedding(3049, 10, input_length = BATCH_SIZE)\n",
        "dept_id_embedding_layer = Embedding(7, 2, input_length = BATCH_SIZE)\n",
        "cat_id_embedding_layer = Embedding(3, 1, input_length = BATCH_SIZE)\n",
        "store_id_embedding_layer = Embedding(10, 2, input_length = BATCH_SIZE)\n",
        "state_id_embedding_layer = Embedding(3, 1, input_length = BATCH_SIZE)"
      ],
      "execution_count": 0,
      "outputs": []
    },
    {
      "cell_type": "code",
      "metadata": {
        "id": "lG0xffRZumz-",
        "colab_type": "code",
        "colab": {}
      },
      "source": [
        "# item_e = item_id_embedding_layer(example_input_batch[:,:,0])\n",
        "# dept_e = dept_id_embedding_layer(example_input_batch[:,:,1])\n",
        "# cat_e = cat_id_embedding_layer(example_input_batch[:,:,2])\n",
        "# store_e = store_id_embedding_layer(example_input_batch[:,:,3])\n",
        "# state_e = state_id_embedding_layer(example_input_batch[:,:,4])"
      ],
      "execution_count": 0,
      "outputs": []
    },
    {
      "cell_type": "code",
      "metadata": {
        "id": "x1PKES3frLlb",
        "colab_type": "code",
        "colab": {}
      },
      "source": [
        ""
      ],
      "execution_count": 0,
      "outputs": []
    },
    {
      "cell_type": "code",
      "metadata": {
        "id": "dtt_KxEirLgw",
        "colab_type": "code",
        "colab": {}
      },
      "source": [
        ""
      ],
      "execution_count": 0,
      "outputs": []
    },
    {
      "cell_type": "code",
      "metadata": {
        "id": "Y2EJu4heqAw0",
        "colab_type": "code",
        "colab": {}
      },
      "source": [
        "class Encoder(tf.keras.Model):\n",
        "  def __init__(self, enc_units, batch_sz):\n",
        "    super(Encoder, self).__init__()\n",
        "    self.batch_sz = batch_sz\n",
        "    self.enc_units = enc_units\n",
        "    self.gru = tf.keras.layers.GRU(self.enc_units, \n",
        "                                   return_sequences = True, \n",
        "                                   return_state = True, \n",
        "                                   recurrent_initializer = 'glorot_uniform')\n",
        "\n",
        "  def call(self, x, hidden):\n",
        "    output, state = self.gru(x, initial_state = hidden)\n",
        "    return output, state\n",
        "\n",
        "  def initialize_hidden_state(self):\n",
        "    return tf.zeros((self.batch_sz, self.enc_units))"
      ],
      "execution_count": 0,
      "outputs": []
    },
    {
      "cell_type": "code",
      "metadata": {
        "id": "46QgnoUbqAs-",
        "colab_type": "code",
        "colab": {}
      },
      "source": [
        "class BahdanauAttention(tf.keras.layers.Layer):\n",
        "  def __init__(self, units):\n",
        "    super(BahdanauAttention, self).__init__()\n",
        "    self.W1 = tf.keras.layers.Dense(units)\n",
        "    self.W2 = tf.keras.layers.Dense(units)\n",
        "    self.V = tf.keras.layers.Dense(1)\n",
        "\n",
        "  def call(self, query, values):\n",
        "    query_with_time_axis = tf.expand_dims(query, 1)\n",
        "\n",
        "    score = self.V(tf.nn.tanh(self.W1(query_with_time_axis) + self.W2(values)))\n",
        "    attention_weights = tf.nn.softmax(score, axis = 1)\n",
        "\n",
        "    context_vector = attention_weights * values\n",
        "    context_vector = tf.reduce_sum(context_vector, axis = 1)\n",
        "\n",
        "    return context_vector, attention_weights"
      ],
      "execution_count": 0,
      "outputs": []
    },
    {
      "cell_type": "code",
      "metadata": {
        "id": "DDccQK1dqAp0",
        "colab_type": "code",
        "colab": {}
      },
      "source": [
        "class Decoder(tf.keras.Model):\n",
        "  def __init__(self, dec_units, batch_sz):\n",
        "    super(Decoder, self).__init__()\n",
        "    self.batch_sz = batch_sz\n",
        "    self.dec_units = dec_units\n",
        "\n",
        "    self.gru = tf.keras.layers.GRU(self.dec_units, \n",
        "                                   return_sequences = True,\n",
        "                                   return_state = True, \n",
        "                                   recurrent_initializer = 'glorot_uniform')\n",
        "    #self.fc = tf.keras.layers.Dense(self.dec_units)\n",
        "    self.fc = tf.keras.layers.Dense(1, activation = 'relu')\n",
        "    self.attention = BahdanauAttention(self.dec_units)\n",
        "\n",
        "  def call(self, x, hidden, enc_output):\n",
        "    context_vector, attention_weights = self.attention(hidden, enc_output)\n",
        "    #x = tf.expand_dims(x, 1)\n",
        "    x = tf.concat([tf.expand_dims(context_vector, 1), x], axis = -1)\n",
        "    output, state = self.gru(x)\n",
        "\n",
        "    output = tf.reshape(output, (-1, output.shape[2]))\n",
        "\n",
        "    x = self.fc(output)\n",
        "    \n",
        "    return x, state, attention_weights"
      ],
      "execution_count": 0,
      "outputs": []
    },
    {
      "cell_type": "code",
      "metadata": {
        "id": "Man21lKpqAnT",
        "colab_type": "code",
        "colab": {}
      },
      "source": [
        "encoder = Encoder(UNITS, BATCH_SIZE)"
      ],
      "execution_count": 0,
      "outputs": []
    },
    {
      "cell_type": "code",
      "metadata": {
        "id": "UfRN979SqAkf",
        "colab_type": "code",
        "colab": {}
      },
      "source": [
        "decoder = Decoder(UNITS, BATCH_SIZE)"
      ],
      "execution_count": 0,
      "outputs": []
    },
    {
      "cell_type": "code",
      "metadata": {
        "id": "4ZozYAuJqAg1",
        "colab_type": "code",
        "colab": {}
      },
      "source": [
        "optimizer = tf.keras.optimizers.Adam()\n",
        "loss_function = tf.keras.losses.MeanSquaredError()"
      ],
      "execution_count": 0,
      "outputs": []
    },
    {
      "cell_type": "code",
      "metadata": {
        "id": "Mix-G6LFtXuu",
        "colab_type": "code",
        "colab": {}
      },
      "source": [
        ""
      ],
      "execution_count": 0,
      "outputs": []
    },
    {
      "cell_type": "code",
      "metadata": {
        "id": "7VxwvFNgqcbG",
        "colab_type": "code",
        "colab": {}
      },
      "source": [
        "@tf.function\n",
        "def train_step(inp, targ, enc_hidden):\n",
        "  loss = 0\n",
        "\n",
        "  with tf.GradientTape() as tape:\n",
        "\n",
        "    item_e = item_id_embedding_layer(inp[:,:,0])\n",
        "    dept_e = dept_id_embedding_layer(inp[:,:,1])\n",
        "    cat_e = cat_id_embedding_layer(inp[:,:,2])\n",
        "    store_e = store_id_embedding_layer(inp[:,:,3])\n",
        "    state_e = state_id_embedding_layer(inp[:,:,4])\n",
        "\n",
        "    inp_embedding = tf.concat([item_e, dept_e, cat_e, store_e, state_e, tf.expand_dims(inp[:,:,5], 2)], axis = 2)\n",
        "\n",
        "    enc_output, enc_hidden = encoder(inp_embedding, enc_hidden)\n",
        "\n",
        "    dec_hidden = enc_hidden\n",
        "\n",
        "    \n",
        "    dec_input = tf.expand_dims(tf.expand_dims([-1.0] * BATCH_SIZE, 1), 1)\n",
        "    #print(\"init: \", dec_input.shape)\n",
        "\n",
        "    for t in range(targ.shape[1]):\n",
        "    #  print(t)\n",
        "      predictions, dec_hidden, _ = decoder(dec_input, dec_hidden, enc_output)\n",
        "      loss += loss_function(targ[:, t], predictions)\n",
        "\n",
        "      #print(\"targ[:, t]: \", targ[:, t].shape, \"prev: \", dec_input.shape)\n",
        "      dec_input = tf.expand_dims(targ[:, t], 1)\n",
        "     # print(\"after: \", dec_input.shape)\n",
        "\n",
        "  batch_loss = (loss / int(targ.shape[1]))\n",
        "\n",
        "  variables = encoder.trainable_variables + decoder.trainable_variables\n",
        "\n",
        "  gradients = tape.gradient(loss, variables)\n",
        "  optimizer.apply_gradients(zip(gradients, variables))\n",
        "\n",
        "  return batch_loss"
      ],
      "execution_count": 0,
      "outputs": []
    },
    {
      "cell_type": "code",
      "metadata": {
        "id": "pU2WX6v4qcX_",
        "colab_type": "code",
        "colab": {}
      },
      "source": [
        "EPOCHS = 50"
      ],
      "execution_count": 0,
      "outputs": []
    },
    {
      "cell_type": "code",
      "metadata": {
        "id": "cNaQriTPqcVb",
        "colab_type": "code",
        "outputId": "8830d65a-9fc5-4a45-937d-67a962dd52bc",
        "colab": {
          "base_uri": "https://localhost:8080/",
          "height": 1000
        }
      },
      "source": [
        "for epoch in range(EPOCHS):\n",
        "  start = time.time()\n",
        "\n",
        "  enc_hidden = encoder.initialize_hidden_state()\n",
        "  total_loss = 0\n",
        "\n",
        "  for (batch, (inp, targ)) in enumerate(train_dataset.take(STEPS_PER_EPOCH)):\n",
        "    batch_loss = train_step(inp, targ, enc_hidden)\n",
        "    total_loss += batch_loss\n",
        "\n",
        "    if batch % 100 == 0:\n",
        "      print('Epoch {} Batch {} Loss {:.10f}'.format(epoch + 1, batch, batch_loss.numpy()))\n",
        "\n",
        "  print('Epoch {} Loss {:.10f}'.format(epoch + 1, total_loss/STEPS_PER_EPOCH))\n"
      ],
      "execution_count": 0,
      "outputs": [
        {
          "output_type": "stream",
          "text": [
            "WARNING:tensorflow:From /tensorflow-1.15.0/python3.6/tensorflow_core/python/ops/math_grad.py:1424: where (from tensorflow.python.ops.array_ops) is deprecated and will be removed in a future version.\n",
            "Instructions for updating:\n",
            "Use tf.where in 2.0, which has the same broadcast rule as np.where\n",
            "Epoch 1 Batch 0 Loss 0.0001057962\n",
            "Epoch 1 Loss 0.0001096272\n",
            "Epoch 2 Batch 0 Loss 0.0000655849\n",
            "Epoch 2 Loss 0.0000790138\n",
            "Epoch 3 Batch 0 Loss 0.0000620850\n",
            "Epoch 3 Loss 0.0000782464\n",
            "Epoch 4 Batch 0 Loss 0.0000629718\n",
            "Epoch 4 Loss 0.0000775970\n",
            "Epoch 5 Batch 0 Loss 0.0000624393\n",
            "Epoch 5 Loss 0.0000771976\n",
            "Epoch 6 Batch 0 Loss 0.0000626015\n",
            "Epoch 6 Loss 0.0000772470\n",
            "Epoch 7 Batch 0 Loss 0.0000622713\n",
            "Epoch 7 Loss 0.0000773168\n",
            "Epoch 8 Batch 0 Loss 0.0000614988\n",
            "Epoch 8 Loss 0.0000777285\n",
            "Epoch 9 Batch 0 Loss 0.0000623216\n",
            "Epoch 9 Loss 0.0000769354\n",
            "Epoch 10 Batch 0 Loss 0.0000624742\n",
            "Epoch 10 Loss 0.0000765916\n",
            "Epoch 11 Batch 0 Loss 0.0000621709\n",
            "Epoch 11 Loss 0.0000761879\n",
            "Epoch 12 Batch 0 Loss 0.0000619059\n",
            "Epoch 12 Loss 0.0000763825\n",
            "Epoch 13 Batch 0 Loss 0.0000620088\n",
            "Epoch 13 Loss 0.0000762038\n",
            "Epoch 14 Batch 0 Loss 0.0000619517\n",
            "Epoch 14 Loss 0.0000764178\n",
            "Epoch 15 Batch 0 Loss 0.0000616929\n",
            "Epoch 15 Loss 0.0000763174\n",
            "Epoch 16 Batch 0 Loss 0.0000616587\n",
            "Epoch 16 Loss 0.0000764482\n",
            "Epoch 17 Batch 0 Loss 0.0000616311\n",
            "Epoch 17 Loss 0.0000763177\n",
            "Epoch 18 Batch 0 Loss 0.0000616211\n",
            "Epoch 18 Loss 0.0000763449\n",
            "Epoch 19 Batch 0 Loss 0.0000616377\n",
            "Epoch 19 Loss 0.0000762550\n",
            "Epoch 20 Batch 0 Loss 0.0000616387\n",
            "Epoch 20 Loss 0.0000762650\n",
            "Epoch 21 Batch 0 Loss 0.0000616877\n",
            "Epoch 21 Loss 0.0000761795\n",
            "Epoch 22 Batch 0 Loss 0.0000616968\n",
            "Epoch 22 Loss 0.0000762280\n",
            "Epoch 23 Batch 0 Loss 0.0000617377\n",
            "Epoch 23 Loss 0.0000761608\n",
            "Epoch 24 Batch 0 Loss 0.0000617435\n",
            "Epoch 24 Loss 0.0000761940\n",
            "Epoch 25 Batch 0 Loss 0.0000617841\n",
            "Epoch 25 Loss 0.0000761512\n",
            "Epoch 26 Batch 0 Loss 0.0000617914\n",
            "Epoch 26 Loss 0.0000761925\n",
            "Epoch 27 Batch 0 Loss 0.0000618386\n",
            "Epoch 27 Loss 0.0000761544\n",
            "Epoch 28 Batch 0 Loss 0.0000618365\n",
            "Epoch 28 Loss 0.0000761738\n",
            "Epoch 29 Batch 0 Loss 0.0000618544\n",
            "Epoch 29 Loss 0.0000761643\n",
            "Epoch 30 Batch 0 Loss 0.0000618179\n",
            "Epoch 30 Loss 0.0000761367\n",
            "Epoch 31 Batch 0 Loss 0.0000617992\n",
            "Epoch 31 Loss 0.0000761012\n",
            "Epoch 32 Batch 0 Loss 0.0000617419\n",
            "Epoch 32 Loss 0.0000761023\n",
            "Epoch 33 Batch 0 Loss 0.0000617126\n",
            "Epoch 33 Loss 0.0000760674\n",
            "Epoch 34 Batch 0 Loss 0.0000616705\n",
            "Epoch 34 Loss 0.0000760430\n",
            "Epoch 35 Batch 0 Loss 0.0000616144\n",
            "Epoch 35 Loss 0.0000760187\n",
            "Epoch 36 Batch 0 Loss 0.0000615694\n",
            "Epoch 36 Loss 0.0000759781\n",
            "Epoch 37 Batch 0 Loss 0.0000615415\n",
            "Epoch 37 Loss 0.0000759484\n",
            "Epoch 38 Batch 0 Loss 0.0000614620\n",
            "Epoch 38 Loss 0.0000759391\n",
            "Epoch 39 Batch 0 Loss 0.0000614926\n",
            "Epoch 39 Loss 0.0000759403\n",
            "Epoch 40 Batch 0 Loss 0.0000615026\n",
            "Epoch 40 Loss 0.0000759158\n",
            "Epoch 41 Batch 0 Loss 0.0000614707\n",
            "Epoch 41 Loss 0.0000758795\n",
            "Epoch 42 Batch 0 Loss 0.0000614876\n",
            "Epoch 42 Loss 0.0000758494\n",
            "Epoch 43 Batch 0 Loss 0.0000614676\n",
            "Epoch 43 Loss 0.0000758317\n",
            "Epoch 44 Batch 0 Loss 0.0000614035\n",
            "Epoch 44 Loss 0.0000757946\n",
            "Epoch 45 Batch 0 Loss 0.0000613700\n",
            "Epoch 45 Loss 0.0000757778\n",
            "Epoch 46 Batch 0 Loss 0.0000614141\n",
            "Epoch 46 Loss 0.0000757636\n",
            "Epoch 47 Batch 0 Loss 0.0000614153\n",
            "Epoch 47 Loss 0.0000757658\n",
            "Epoch 48 Batch 0 Loss 0.0000614191\n",
            "Epoch 48 Loss 0.0000757485\n",
            "Epoch 49 Batch 0 Loss 0.0000614366\n",
            "Epoch 49 Loss 0.0000757305\n",
            "Epoch 50 Batch 0 Loss 0.0000614025\n",
            "Epoch 50 Loss 0.0000756284\n"
          ],
          "name": "stdout"
        }
      ]
    },
    {
      "cell_type": "code",
      "metadata": {
        "id": "2-etJ3z0qcSc",
        "colab_type": "code",
        "colab": {}
      },
      "source": [
        "def evaluate(val_x, val_y):\n",
        "  tensor_val_x = tf.convert_to_tensor(val_x)\n",
        "  tensor_val_y = tf.convert_to_tensor(val_y)\n",
        "\n",
        "  val_x_batch_size = tensor_val_x.shape[0]\n",
        "\n",
        "  hidden = [tf.zeros((val_x_batch_size, units))]\n",
        "  enc_out, enc_hidden = encoder(tensor_val_x, hidden)\n",
        "  \n",
        "  dec_hidden = enc_hidden\n",
        "  dec_input = tf.expand_dims(np.array([-1] * val_x_batch_size).astype(float).reshape(val_x_batch_size, 1), 1)\n",
        "\n",
        "  result = []\n",
        "\n",
        "  for t in range(tensor_val_y.shape[1]):\n",
        "    predictions, dec_hidden, attention_weights = decoder(dec_input, dec_hidden, enc_out)\n",
        "    dec_input = tf.expand_dims(predictions, 1)\n",
        "\n",
        "    result.append(predictions.numpy())\n",
        "\n",
        "  output = tf.transpose(tf.convert_to_tensor(result), [1, 0, 2])\n",
        "  val_loss = loss_function(val_y, output).numpy()\n",
        "\n",
        "  return val_loss, output"
      ],
      "execution_count": 0,
      "outputs": []
    },
    {
      "cell_type": "code",
      "metadata": {
        "id": "TqGzPm9JqcOc",
        "colab_type": "code",
        "colab": {}
      },
      "source": [
        ""
      ],
      "execution_count": 0,
      "outputs": []
    },
    {
      "cell_type": "code",
      "metadata": {
        "id": "HqZV5YDgHXaY",
        "colab_type": "code",
        "colab": {}
      },
      "source": [
        "###################################################################3"
      ],
      "execution_count": 0,
      "outputs": []
    },
    {
      "cell_type": "code",
      "metadata": {
        "id": "ziO8AmM1qAeA",
        "colab_type": "code",
        "colab": {}
      },
      "source": [
        ""
      ],
      "execution_count": 0,
      "outputs": []
    },
    {
      "cell_type": "code",
      "metadata": {
        "id": "4MOzQ0xmkTCB",
        "colab_type": "code",
        "colab": {}
      },
      "source": [
        ""
      ],
      "execution_count": 0,
      "outputs": []
    },
    {
      "cell_type": "code",
      "metadata": {
        "id": "0DiAdnfza-_m",
        "colab_type": "code",
        "colab": {}
      },
      "source": [
        "def generate_data(dataset, start_index, end_index):\n",
        "  data = []\n",
        "  target = []\n",
        "\n",
        "\n",
        "  for i in range(end_index - start_index):\n",
        "    data_item_id \n",
        "    data_series_x = dataset.iloc[1042, (start_index + i):(start_index + INPUT_SERIES_SIZE + i)].values\n",
        "    data_series_y = dataset.iloc[1042, (start_index + INPUT_SERIES_SIZE + i):(start_index + INPUT_SERIES_SIZE + OUTPUT_SERIES_SIZE + i)].values\n",
        "\n",
        "    if data_series_x.tolist().count(0) == len(data_series_x):\n",
        "      continue\n",
        "\n",
        "    data.append(np.reshape(data_series_x, (INPUT_SERIES_SIZE , 1)).astype(float))\n",
        "    target.append(np.reshape(data_series_y, (OUTPUT_SERIES_SIZE, 1)).astype(float))\n",
        "    \n",
        "  return np.array(data), np.array(target)"
      ],
      "execution_count": 0,
      "outputs": []
    },
    {
      "cell_type": "code",
      "metadata": {
        "id": "LQXQni0svH-J",
        "colab_type": "code",
        "colab": {}
      },
      "source": [
        "train_x, train_y = generate_data(df, 1, 1600)\n",
        "val_x, val_y = generate_data(df, 1700, 1800)"
      ],
      "execution_count": 0,
      "outputs": []
    },
    {
      "cell_type": "code",
      "metadata": {
        "colab_type": "code",
        "outputId": "bf9205d1-dd05-4433-8c99-20f87e09faa2",
        "id": "izpJnBC8-aDv",
        "colab": {
          "base_uri": "https://localhost:8080/",
          "height": 34
        }
      },
      "source": [
        "train_x.shape # (999, 10, 1)"
      ],
      "execution_count": 0,
      "outputs": [
        {
          "output_type": "execute_result",
          "data": {
            "text/plain": [
              "(1069, 60, 1)"
            ]
          },
          "metadata": {
            "tags": []
          },
          "execution_count": 9
        }
      ]
    },
    {
      "cell_type": "code",
      "metadata": {
        "id": "HavcXp9oh6KL",
        "colab_type": "code",
        "colab": {}
      },
      "source": [
        "STEPS_PER_EPOCH = len(train_x) // BATCH_SIZE"
      ],
      "execution_count": 0,
      "outputs": []
    },
    {
      "cell_type": "code",
      "metadata": {
        "id": "gSY8DYqngp48",
        "colab_type": "code",
        "colab": {}
      },
      "source": [
        "train_dataset = tf.data.Dataset.from_tensor_slices((train_x, train_y))\n",
        "train_dataset = train_dataset.cache().shuffle(BUFFER_SIZE).batch(BATCH_SIZE).repeat()\n",
        "val_dataset = tf.data.Dataset.from_tensor_slices((val_x, val_y))"
      ],
      "execution_count": 0,
      "outputs": []
    },
    {
      "cell_type": "code",
      "metadata": {
        "id": "OWNf-_LdTBTa",
        "colab_type": "code",
        "colab": {}
      },
      "source": [
        "example_input_batch, example_target_batch = next(iter(train_dataset))"
      ],
      "execution_count": 0,
      "outputs": []
    },
    {
      "cell_type": "code",
      "metadata": {
        "id": "qTnMFxwbvhyG",
        "colab_type": "code",
        "colab": {}
      },
      "source": [
        "class Encoder(tf.keras.Model):\n",
        "  def __init__(self, enc_units, batch_sz):\n",
        "    super(Encoder, self).__init__()\n",
        "    self.batch_sz = batch_sz\n",
        "    self.enc_units = enc_units\n",
        "    self.gru = tf.keras.layers.GRU(self.enc_units, \n",
        "                                   return_sequences = True, \n",
        "                                   return_state = True, \n",
        "                                   recurrent_initializer = 'glorot_uniform')\n",
        "\n",
        "  def call(self, x, hidden):\n",
        "    output, state = self.gru(x, initial_state = hidden)\n",
        "    return output, state\n",
        "\n",
        "  def initialize_hidden_state(self):\n",
        "    return tf.zeros((self.batch_sz, self.enc_units))"
      ],
      "execution_count": 0,
      "outputs": []
    },
    {
      "cell_type": "code",
      "metadata": {
        "id": "zVzy6Colvhvr",
        "colab_type": "code",
        "colab": {}
      },
      "source": [
        ""
      ],
      "execution_count": 0,
      "outputs": []
    },
    {
      "cell_type": "code",
      "metadata": {
        "id": "ZlOA1MqqSlil",
        "colab_type": "code",
        "colab": {}
      },
      "source": [
        ""
      ],
      "execution_count": 0,
      "outputs": []
    },
    {
      "cell_type": "code",
      "metadata": {
        "id": "FEGx2sejvho-",
        "colab_type": "code",
        "colab": {}
      },
      "source": [
        "class BahdanauAttention(tf.keras.layers.Layer):\n",
        "  def __init__(self, units):\n",
        "    super(BahdanauAttention, self).__init__()\n",
        "    self.W1 = tf.keras.layers.Dense(units)\n",
        "    self.W2 = tf.keras.layers.Dense(units)\n",
        "    self.V = tf.keras.layers.Dense(1)\n",
        "\n",
        "  def call(self, query, values):\n",
        "    query_with_time_axis = tf.expand_dims(query, 1)\n",
        "\n",
        "    score = self.V(tf.nn.tanh(self.W1(query_with_time_axis) + self.W2(values)))\n",
        "    attention_weights = tf.nn.softmax(score, axis = 1)\n",
        "\n",
        "    context_vector = attention_weights * values\n",
        "    context_vector = tf.reduce_sum(context_vector, axis = 1)\n",
        "\n",
        "    return context_vector, attention_weights"
      ],
      "execution_count": 0,
      "outputs": []
    },
    {
      "cell_type": "code",
      "metadata": {
        "id": "_XLKBKIsvhj-",
        "colab_type": "code",
        "colab": {}
      },
      "source": [
        "class Decoder(tf.keras.Model):\n",
        "  def __init__(self, dec_units, batch_sz):\n",
        "    super(Decoder, self).__init__()\n",
        "    self.batch_sz = batch_sz\n",
        "    self.dec_units = dec_units\n",
        "\n",
        "    self.gru = tf.keras.layers.GRU(self.dec_units, \n",
        "                                   return_sequences = True,\n",
        "                                   return_state = True, \n",
        "                                   recurrent_initializer = 'glorot_uniform')\n",
        "    #self.fc = tf.keras.layers.Dense(self.dec_units)\n",
        "    self.fc = tf.keras.layers.Dense(1, activation = 'relu')\n",
        "    self.attention = BahdanauAttention(self.dec_units)\n",
        "\n",
        "  def call(self, x, hidden, enc_output):\n",
        "    context_vector, attention_weights = self.attention(hidden, enc_output)\n",
        "    #x = tf.expand_dims(x, 1)\n",
        "    x = tf.concat([tf.expand_dims(context_vector, 1), x], axis = -1)\n",
        "    output, state = self.gru(x)\n",
        "\n",
        "    output = tf.reshape(output, (-1, output.shape[2]))\n",
        "\n",
        "    x = self.fc(output)\n",
        "    \n",
        "    return x, state, attention_weights"
      ],
      "execution_count": 0,
      "outputs": []
    },
    {
      "cell_type": "code",
      "metadata": {
        "id": "IaHQ_3KpfLqu",
        "colab_type": "code",
        "colab": {}
      },
      "source": [
        "encoder = Encoder(units, BATCH_SIZE)"
      ],
      "execution_count": 0,
      "outputs": []
    },
    {
      "cell_type": "code",
      "metadata": {
        "id": "hi2YwdQ7kR1D",
        "colab_type": "code",
        "colab": {}
      },
      "source": [
        "decoder = Decoder(units, BATCH_SIZE)"
      ],
      "execution_count": 0,
      "outputs": []
    },
    {
      "cell_type": "code",
      "metadata": {
        "colab_type": "code",
        "id": "O492UKsTf3cI",
        "colab": {}
      },
      "source": [
        "optimizer = tf.keras.optimizers.Adam()\n",
        "loss_function = tf.keras.losses.MeanSquaredError()"
      ],
      "execution_count": 0,
      "outputs": []
    },
    {
      "cell_type": "code",
      "metadata": {
        "id": "VUaRd1oC_dy4",
        "colab_type": "code",
        "colab": {}
      },
      "source": [
        ""
      ],
      "execution_count": 0,
      "outputs": []
    },
    {
      "cell_type": "code",
      "metadata": {
        "id": "KUu-v3QyR-gs",
        "colab_type": "code",
        "colab": {}
      },
      "source": [
        ""
      ],
      "execution_count": 0,
      "outputs": []
    },
    {
      "cell_type": "code",
      "metadata": {
        "id": "_3EZwUiYgpv4",
        "colab_type": "code",
        "colab": {}
      },
      "source": [
        "@tf.function\n",
        "def train_step(inp, targ, enc_hidden):\n",
        "  loss = 0\n",
        "\n",
        "  with tf.GradientTape() as tape:\n",
        "    enc_output, enc_hidden = encoder(inp, enc_hidden)\n",
        "\n",
        "    dec_hidden = enc_hidden\n",
        "\n",
        "    \n",
        "    dec_input = tf.expand_dims(tf.expand_dims([-1.0] * BATCH_SIZE, 1), 1)\n",
        "    #print(\"init: \", dec_input.shape)\n",
        "\n",
        "    for t in range(targ.shape[1]):\n",
        "    #  print(t)\n",
        "      predictions, dec_hidden, _ = decoder(dec_input, dec_hidden, enc_output)\n",
        "      loss += loss_function(targ[:, t], predictions)\n",
        "\n",
        "      #print(\"targ[:, t]: \", targ[:, t].shape, \"prev: \", dec_input.shape)\n",
        "      dec_input = tf.expand_dims(targ[:, t], 1)\n",
        "     # print(\"after: \", dec_input.shape)\n",
        "\n",
        "  batch_loss = (loss / int(targ.shape[1]))\n",
        "\n",
        "  variables = encoder.trainable_variables + decoder.trainable_variables\n",
        "\n",
        "  gradients = tape.gradient(loss, variables)\n",
        "  optimizer.apply_gradients(zip(gradients, variables))\n",
        "\n",
        "  return batch_loss"
      ],
      "execution_count": 0,
      "outputs": []
    },
    {
      "cell_type": "code",
      "metadata": {
        "id": "wR1xySYPgptt",
        "colab_type": "code",
        "colab": {}
      },
      "source": [
        "EPOCHS = 50"
      ],
      "execution_count": 0,
      "outputs": []
    },
    {
      "cell_type": "code",
      "metadata": {
        "id": "fZF6bxEQgprO",
        "colab_type": "code",
        "colab": {}
      },
      "source": [
        "for epoch in range(EPOCHS):\n",
        "  start = time.time()\n",
        "\n",
        "  enc_hidden = encoder.initialize_hidden_state()\n",
        "  total_loss = 0\n",
        "\n",
        "  for (batch, (inp, targ)) in enumerate(train_dataset.take(STEPS_PER_EPOCH)):\n",
        "    batch_loss = train_step(inp, targ, enc_hidden)\n",
        "    total_loss += batch_loss\n",
        "\n",
        "    if batch % 100 == 0:\n",
        "      print('Epoch {} Batch {} Loss {:.4f}'.format(epoch + 1, batch, batch_loss.numpy()))\n",
        "\n",
        "  print('Epoch {} Loss {:.4f}'.format(epoch + 1, total_loss/STEPS_PER_EPOCH))\n"
      ],
      "execution_count": 0,
      "outputs": []
    },
    {
      "cell_type": "code",
      "metadata": {
        "id": "2kxoPKltnAVg",
        "colab_type": "code",
        "colab": {}
      },
      "source": [
        "def evaluate(val_x, val_y):\n",
        "  tensor_val_x = tf.convert_to_tensor(val_x)\n",
        "  tensor_val_y = tf.convert_to_tensor(val_y)\n",
        "\n",
        "  val_x_batch_size = tensor_val_x.shape[0]\n",
        "\n",
        "  hidden = [tf.zeros((val_x_batch_size, units))]\n",
        "  enc_out, enc_hidden = encoder(tensor_val_x, hidden)\n",
        "  \n",
        "  dec_hidden = enc_hidden\n",
        "  dec_input = tf.expand_dims(np.array([-1] * val_x_batch_size).astype(float).reshape(val_x_batch_size, 1), 1)\n",
        "\n",
        "  result = []\n",
        "\n",
        "  for t in range(tensor_val_y.shape[1]):\n",
        "    predictions, dec_hidden, attention_weights = decoder(dec_input, dec_hidden, enc_out)\n",
        "    dec_input = tf.expand_dims(predictions, 1)\n",
        "\n",
        "    result.append(predictions.numpy())\n",
        "\n",
        "  output = tf.transpose(tf.convert_to_tensor(result), [1, 0, 2])\n",
        "  val_loss = loss_function(val_y, output).numpy()\n",
        "\n",
        "  return val_loss, output"
      ],
      "execution_count": 0,
      "outputs": []
    },
    {
      "cell_type": "code",
      "metadata": {
        "id": "l-aagE4I0z-P",
        "colab_type": "code",
        "colab": {}
      },
      "source": [
        "loss, predict_result = evaluate(val_x, val_y)"
      ],
      "execution_count": 0,
      "outputs": []
    },
    {
      "cell_type": "code",
      "metadata": {
        "id": "yU3NdTqRNLuX",
        "colab_type": "code",
        "colab": {}
      },
      "source": [
        ""
      ],
      "execution_count": 0,
      "outputs": []
    },
    {
      "cell_type": "code",
      "metadata": {
        "id": "aZ2F_d0iNLrQ",
        "colab_type": "code",
        "colab": {}
      },
      "source": [
        ""
      ],
      "execution_count": 0,
      "outputs": []
    },
    {
      "cell_type": "code",
      "metadata": {
        "id": "ZkVcly-sNLn-",
        "colab_type": "code",
        "colab": {}
      },
      "source": [
        ""
      ],
      "execution_count": 0,
      "outputs": []
    },
    {
      "cell_type": "code",
      "metadata": {
        "id": "nADTQUsYNLkK",
        "colab_type": "code",
        "colab": {}
      },
      "source": [
        ""
      ],
      "execution_count": 0,
      "outputs": []
    },
    {
      "cell_type": "code",
      "metadata": {
        "id": "-wS-4-gG0z4s",
        "colab_type": "code",
        "colab": {}
      },
      "source": [
        "import matplotlib as mpl\n",
        "import matplotlib.pyplot as plt \n",
        "mpl.rcParams['figure.figsize'] = (8, 6)\n",
        "mpl.rcParams['axes.grid'] = False"
      ],
      "execution_count": 0,
      "outputs": []
    },
    {
      "cell_type": "code",
      "metadata": {
        "id": "yiFdNpaFBd9Y",
        "colab_type": "code",
        "outputId": "af412374-3d64-43c9-ddd4-903de99834fb",
        "colab": {
          "base_uri": "https://localhost:8080/",
          "height": 391
        }
      },
      "source": [
        "plt.plot(range(-60, 28), np.concatenate([val_x[2], val_y[2]], axis = 0))\n",
        "plt.plot(range(0, 28), predict_result[2].numpy())"
      ],
      "execution_count": 0,
      "outputs": [
        {
          "output_type": "execute_result",
          "data": {
            "text/plain": [
              "[<matplotlib.lines.Line2D at 0x7fd563d44668>]"
            ]
          },
          "metadata": {
            "tags": []
          },
          "execution_count": 39
        },
        {
          "output_type": "display_data",
          "data": {
            "image/png": "[encoded data removed]",
            "text/plain": [
              "<Figure size 576x432 with 1 Axes>"
            ]
          },
          "metadata": {
            "tags": []
          }
        }
      ]
    },
    {
      "cell_type": "markdown",
      "metadata": {
        "id": "qLlnyGwX4gGO",
        "colab_type": "text"
      },
      "source": [
        ""
      ]
    }
  ]
}